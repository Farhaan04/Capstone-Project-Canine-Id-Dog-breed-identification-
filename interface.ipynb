{
 "cells": [
  {
   "cell_type": "code",
   "execution_count": 2,
   "id": "75b1e00d-108f-4c41-ae0e-62fe67492da3",
   "metadata": {},
   "outputs": [],
   "source": [
    "import tkinter as tk  # Import the tkinter library for GUI development\n",
    "from tkinter import filedialog, messagebox  # Import filedialog and messagebox for user interactions\n",
    "from PIL import ImageTk, Image  # Import ImageTk and Image from PIL for image handling\n",
    "import numpy as np  # Import numpy for numerical operations\n",
    "from keras.models import load_model  # Import load_model from keras.models to load trained models\n",
    "import keras.utils as image  # Import utils from keras to preprocess images\n",
    "from keras.applications.mobilenet_v2 import preprocess_input  # Import preprocess_input from MobileNetV2 for image preprocessing\n"
   ]
  },
  {
   "cell_type": "code",
   "execution_count": 3,
   "id": "15c4b659-1c3e-41d7-9511-6f08b9c3d0fc",
   "metadata": {},
   "outputs": [],
   "source": [
    "# Load the trained model\n",
    "model = load_model('dog_v2.h5')"
   ]
  },
  {
   "cell_type": "code",
   "execution_count": 4,
   "id": "12c0ad94-9666-4dd0-ab67-80b493cd50a3",
   "metadata": {},
   "outputs": [],
   "source": [
    "# Mapping class indices to class names\n",
    "class_mapping = {0: 'Afghan', 1: 'African Wild Dog', 2: 'Airedale', 3: 'American Hairless', 4: 'American Spaniel',\n",
    "                 5: 'Basenji', 6: 'Basset', 7: 'Beagle', 8: 'Bearded Collie', 9: 'Bermaise', 10: 'Bichon Frise',\n",
    "                 11: 'Blenheim', 12: 'Bloodhound', 13: 'Bluetick', 14: 'Border Collie', 15: 'Borzoi', 16: 'Boston Terrier',\n",
    "                 17: 'Boxer', 18: 'Bull Mastiff', 19: 'Bull Terrier', 20: 'Bulldog', 21: 'Cairn', 22: 'Chihuahua',\n",
    "                 23: 'Chinese Crested', 24: 'Chow', 25: 'Clumber', 26: 'Cockapoo', 27: 'Cocker', 28: 'Collie',\n",
    "                 29: 'Corgi', 30: 'Coyote', 31: 'Dalmation', 32: 'Dhole', 33: 'Dingo', 34: 'Doberman', 35: 'Elk Hound',\n",
    "                 36: 'French Bulldog', 37: 'German Sheperd', 38: 'Golden Retriever', 39: 'Great Dane', 40: 'Great Perenees',\n",
    "                 41: 'Greyhound', 42: 'Groenendael', 43: 'Irish Spaniel', 44: 'Irish Wolfhound', 45: 'Japanese Spaniel',\n",
    "                 46: 'Komondor', 47: 'Labradoodle', 48: 'Labrador', 49: 'Lhasa', 50: 'Malinois', 51: 'Maltese',\n",
    "                 52: 'Mex Hairless', 53: 'Newfoundland', 54: 'Pekinese', 55: 'Pit Bull', 56: 'Pomeranian', 57: 'Poodle',\n",
    "                 58: 'Pug', 59: 'Rhodesian', 60: 'Rottweiler', 61: 'Saint Bernard', 62: 'Schnauzer', 63: 'Scotch Terrier',\n",
    "                 64: 'Shar_Pei', 65: 'Shiba Inu', 66: 'Shih-Tzu', 67: 'Siberian Husky', 68: 'Vizsla', 69: 'Yorkie'}\n"
   ]
  },
  {
   "cell_type": "code",
   "execution_count": 5,
   "id": "6ae77d41-1701-4c35-a173-4f08d20e44da",
   "metadata": {},
   "outputs": [],
   "source": [
    "\n",
    "def preprocess_image(image_path):\n",
    "    # Preprocess image for model input\n",
    "    img = image.load_img(image_path, target_size=(224, 224))  # Load image and resize to 224x224 pixels\n",
    "    img_array = image.img_to_array(img)  # Convert image to numpy array\n",
    "    img_array = np.expand_dims(img_array, axis=0)  # Expand dimensions to match model input shape\n",
    "    img_array = preprocess_input(img_array)  # Preprocess image according to MobileNetV2 requirements\n",
    "    return img_array\n",
    "\n",
    "def predict(image_path):\n",
    "    # Predict dog breed from image\n",
    "    img_array = preprocess_image(image_path)  # Preprocess image\n",
    "    predictions = model.predict(img_array)  # Perform prediction\n",
    "    predicted_class = np.argmax(predictions)  # Get index of the predicted class\n",
    "    return class_mapping[predicted_class]  # Return the predicted dog breed\n",
    "\n",
    "def upload_image():\n",
    "    # Upload image for classification\n",
    "    file_path = filedialog.askopenfilename()  # Open file dialog to select an image\n",
    "    if file_path:\n",
    "        # Predict dog breed and display result\n",
    "        predicted_class = predict(file_path)  # Get predicted dog breed\n",
    "        result_label.config(text=f\"Predicted Breed: {predicted_class}\")  # Update result label text\n",
    "\n"
   ]
  },
  {
   "cell_type": "code",
   "execution_count": 7,
   "id": "3a2bbe87-3c5a-495e-844d-b45b50be1209",
   "metadata": {},
   "outputs": [
    {
     "name": "stderr",
     "output_type": "stream",
     "text": [
      "C:\\Users\\Farha\\AppData\\Local\\Temp\\ipykernel_19004\\338171407.py:8: DeprecationWarning: ANTIALIAS is deprecated and will be removed in Pillow 10 (2023-07-01). Use LANCZOS or Resampling.LANCZOS instead.\n",
      "  bg_image = bg_image.resize((500, 650), Image.ANTIALIAS)  # Resize background image\n"
     ]
    }
   ],
   "source": [
    "# Initialize tkinter window\n",
    "root = tk.Tk()  # Create main window instance\n",
    "root.title(\"Dog Breed Prediction\")  # Set window title\n",
    "root.geometry(\"500x650\")  # Set window dimensions\n",
    "\n",
    "# Background image\n",
    "bg_image = Image.open(\"background_image.jpg\")  # Load background image\n",
    "bg_image = bg_image.resize((500, 650), Image.ANTIALIAS)  # Resize background image\n",
    "bg_image = ImageTk.PhotoImage(bg_image)  # Convert background image to Tkinter format\n",
    "\n",
    "# Background label\n",
    "bg_label = tk.Label(root, image=bg_image)  # Create label to display background image\n",
    "bg_label.place(x=0, y=0, relwidth=1, relheight=1)  # Place background label in window\n",
    "\n",
    "# Upload Button\n",
    "upload_button = tk.Button(root, text=\"Upload Image\", command=upload_image, bg='#EFC3CA', fg='black', font=('Comic Sans MS', 14))  # Create button for uploading image\n",
    "upload_button.place(relx=0.5, rely=0.4, anchor=tk.CENTER)  # Place button at specified location in window\n",
    "\n",
    "# Prediction result label\n",
    "result_label = tk.Label(root, text=\"\", bg='#EFC3CA', fg='black', font=('Comic Sans MS', 14))  # Create label to display prediction result\n",
    "result_label.place(relx=0.5, rely=0.6, anchor=tk.CENTER)  # Place label at specified location in window\n",
    "\n",
    "root.mainloop()  # Start the main loop to run the application\n"
   ]
  },
  {
   "cell_type": "code",
   "execution_count": null,
   "id": "99f3d151-50d6-4359-8851-82164265e8bd",
   "metadata": {},
   "outputs": [],
   "source": []
  }
 ],
 "metadata": {
  "kernelspec": {
   "display_name": "Python 3 (ipykernel)",
   "language": "python",
   "name": "python3"
  },
  "language_info": {
   "codemirror_mode": {
    "name": "ipython",
    "version": 3
   },
   "file_extension": ".py",
   "mimetype": "text/x-python",
   "name": "python",
   "nbconvert_exporter": "python",
   "pygments_lexer": "ipython3",
   "version": "3.11.3"
  }
 },
 "nbformat": 4,
 "nbformat_minor": 5
}
